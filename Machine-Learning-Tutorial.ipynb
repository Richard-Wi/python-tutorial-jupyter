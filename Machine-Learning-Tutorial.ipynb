{
 "cells": [
  {
   "cell_type": "markdown",
   "id": "1738f9d6",
   "metadata": {},
   "source": [
    "# Textleser\n",
    "\n",
    "Im Nachhinein kommt der Textfilter/Datenaufbereiter"
   ]
  },
  {
   "cell_type": "code",
   "execution_count": 1,
   "id": "73ad3116",
   "metadata": {},
   "outputs": [],
   "source": [
    "%load_ext watermark"
   ]
  },
  {
   "cell_type": "markdown",
   "id": "a89b6db7",
   "metadata": {},
   "source": [
    "## Erforderliche Bibliotheken\n",
    "\n",
    "Die erforderlichen Bibliotheken sind:\n",
    "\n",
    "Bibliothek | Nutzen \n",
    "---|---\n",
    "re | RegularExpressions - ist eine Bibliothek die für das Suchen und Ersetzen in Texten genutzt wird\n",
    "csv | CommaSeparatedValues - ist eine Bibliothek die zum Schreiben und Auswerten von .csv-Dateien genutzt wird.\n",
    "glob | dient zum Suchen innerhalb eines Dateisystems\n",
    "difflib | Vergleicht Strings und findet Unterschiede\n",
    "SpellChecker | Schaut ob Wörter richtig buchstabiert worden sind\n",
    "regEx_filter | eigens erstellte Bibliothek wo für dieses Tutorial zu komplizierte Funktionen lagern"
   ]
  },
  {
   "cell_type": "code",
   "execution_count": 2,
   "id": "a53fa1d1",
   "metadata": {},
   "outputs": [],
   "source": [
    "import re\n",
    "import csv\n",
    "import glob\n",
    "import difflib\n",
    "from spellchecker import SpellChecker\n",
    "from Learning_analytics_functions import regEx_filter"
   ]
  },
  {
   "cell_type": "markdown",
   "id": "545e0b3e",
   "metadata": {},
   "source": [
    "Vorbereitung des Rechtschreibprüfers, wir stellen die Sprache auf Deutsch ein"
   ]
  },
  {
   "cell_type": "code",
   "execution_count": 3,
   "id": "b0a51c61",
   "metadata": {},
   "outputs": [],
   "source": [
    "#setze Sprache des Rechtschreibüberprüfers auf Deutsch\n",
    "spell = SpellChecker(language='de')"
   ]
  },
  {
   "cell_type": "markdown",
   "id": "73228a80",
   "metadata": {},
   "source": [
    "Vorbereitung, Erstellung der .csv-Datei, erstellen von Variablen, ggf. Zurücksetzen"
   ]
  },
  {
   "cell_type": "code",
   "execution_count": 4,
   "id": "a38bf6e8",
   "metadata": {},
   "outputs": [],
   "source": [
    "test_text = open('Filter_Ergebnisse.csv','w')\n",
    "csv_writer = csv.writer(test_text)\n",
    "\n",
    "feature_list = []\n",
    "falsch_geschrieben_features_list = []\n",
    "\n",
    "i = 0\n",
    "itera2 = 0\n",
    "itera4 = 0\n",
    "liste_fehlerhafter_buchstaben = []\n",
    "summierte_liste = 0"
   ]
  },
  {
   "cell_type": "markdown",
   "id": "a463a4f9",
   "metadata": {},
   "source": [
    "## Funktion um eine .txt Dateien auszulesen\n",
    "'file' ist hierbei ein Platzhalter, welcher durch den Dateinamen den wir der Funktion übergeben ersetzt wird.\n",
    "beispiel: read_all_lines('test.txt') würde test.txt als Namen an die Funktion übergeben"
   ]
  },
  {
   "cell_type": "code",
   "execution_count": 5,
   "id": "5bd8de55",
   "metadata": {},
   "outputs": [],
   "source": [
    "def read_all_lines(file):\n",
    "    with open(file, 'rt') as fd:\n",
    "        #lese den gesamten Inhalt der .txt-Datei und speichere ihn in all_lines ab\n",
    "        all_lines = fd.readlines()\n",
    "        # Rückgabewert der Funktion, das ist letzlich der Output\n",
    "        # Beispiel: wenn wir sagen das wir als Rückgabewert '1' festlegen dann würden wir bei einem Aufruf der Funktion(read_all_lines('test.txt')) auch '1' als Rückmeldung erhalten \n",
    "    return all_lines"
   ]
  },
  {
   "cell_type": "markdown",
   "id": "d6f9c7d0",
   "metadata": {},
   "source": [
    "## Code zum Erhalten der .txt-Dateien\n",
    "erhalte alle Dateipfade für .txt Dateien am Standort glob.glob(Pfad/*.txt)\n",
    "mit Pfad ist hierbei der Relative Dateipfad von dieser Datei aus gemeint. In diesem Fall wird auf den Unterordner \"test\" zugegriffen.\n",
    "das * steht hierbei für \"alle Namen\"\n",
    ".txt ist die Endung der Dateien die wir haben wollen\n"
   ]
  },
  {
   "cell_type": "code",
   "execution_count": 6,
   "id": "aa6ae52e",
   "metadata": {},
   "outputs": [],
   "source": [
    "txt_Dateien = glob.glob(\"./test/*.txt\")\n",
    "\n",
    "#map ist ein spezielles Objekt: führe die Funktion read_all_lines() auf den txt Dateien aus.(die Liste wo die txt dateien sich befinden wird vorher noch einmal sortiert)\n",
    "output_strings_map = map(read_all_lines, sorted(txt_Dateien))\n",
    "\n",
    "#wandle die map in eine list um, da sonst der append Befehl nicht richtig funktioniert\n",
    "output_strings_list = list(output_strings_map)\n",
    "\n",
    "while i < len(output_strings_list) :\n",
    "    #hänge an feature_list das folgende Element an [.append(Element)] das Element mit Index i aus der Liste\n",
    "    feature_list.append(str(output_strings_list[i]))\n",
    "    i += 1\n",
    "\n",
    "#Füge die gesamte List of List zu einer Liste zusammen\n",
    "output_content = \"\".join(feature_list)"
   ]
  },
  {
   "cell_type": "markdown",
   "id": "1f046b46",
   "metadata": {},
   "source": [
    "## Saubermachen der Text Datei"
   ]
  },
  {
   "cell_type": "code",
   "execution_count": 7,
   "id": "05827a03",
   "metadata": {},
   "outputs": [],
   "source": [
    "# mithilfe von RegEx alle Satzzeichen und Nummern entfernen und das ganze als Liste zurückgeben\n",
    "regEx1 = regEx_filter(output_content)"
   ]
  },
  {
   "cell_type": "markdown",
   "id": "01228793",
   "metadata": {},
   "source": [
    "## Raussuchen und Speichern der fehlerhaft eingesetzen Buchstaben"
   ]
  },
  {
   "cell_type": "code",
   "execution_count": 8,
   "id": "dbe89a49",
   "metadata": {},
   "outputs": [],
   "source": [
    "# falsch_geschrieben gibt alle falschgeschriebenen Wörter jeweils einmal zurück\n",
    "falsch_geschrieben_features = spell.unknown(regEx1) \n",
    "\n",
    "#finde heraus wie sich die beiden Wörter unterscheiden\n",
    "for falsch in falsch_geschrieben_features :\n",
    "    richtig = spell.correction(falsch)\n",
    "    unterschiede = difflib.ndiff(richtig, falsch)\n",
    "    for unterschied in unterschiede :\n",
    "        #gebe aus wenn es einen Buchstaben als Unterschied gibt\n",
    "        if re.search('\\W', unterschied) != None :\n",
    "            charakter1 = re.sub('\\W','',unterschied)\n",
    "            charakter = re.sub('\\s+','',charakter1)\n",
    "            falsch_geschrieben_features_list.append(charakter)\n",
    "\n",
    "#lösche doppelte Buchstaben und gebe das ganze als sortierte Liste zurück\n",
    "falscher_Buchstabe = sorted(list(set(falsch_geschrieben_features_list)))"
   ]
  },
  {
   "cell_type": "markdown",
   "id": "115b6f4b",
   "metadata": {},
   "source": [
    "## Erstellen des Headers der .csv-Datei"
   ]
  },
  {
   "cell_type": "code",
   "execution_count": 9,
   "id": "b044b40d",
   "metadata": {},
   "outputs": [
    {
     "data": {
      "text/plain": [
       "125"
      ]
     },
     "execution_count": 9,
     "metadata": {},
     "output_type": "execute_result"
    }
   ],
   "source": [
    "Titel = ['Text_Autor', 'Summe_Wörter', 'Fehler_anzahl', 'prozentualer_Fehleranteil']\n",
    "\n",
    "for obj in falscher_Buchstabe :\n",
    "    Titel.append(obj)\n",
    "\n",
    "#schreibe die erste Reihe - hierbei müssen alle Rechtschreibfehler als features reingeschrieben werden\n",
    "\n",
    "csv_writer.writerow(Titel)"
   ]
  },
  {
   "cell_type": "markdown",
   "id": "32727ff4",
   "metadata": {},
   "source": [
    "## Auswertung der einzelnen .txt-Dateien\n",
    "Die Ausgabe gibt den Namen und danach die Fehler pro Absatz innerhalb der .txt-Datei aus"
   ]
  },
  {
   "cell_type": "code",
   "execution_count": 10,
   "id": "21a134d1",
   "metadata": {},
   "outputs": [
    {
     "name": "stdout",
     "output_type": "stream",
     "text": [
      "./test/Klaus.txt\n",
      "71.0\n",
      "71.0\n",
      "97.5\n",
      "./test/Corry.txt\n",
      "41.0\n",
      "41.0\n",
      "60.0\n",
      "./test/Lea.txt\n",
      "84.0\n",
      "84.0\n",
      "148.0\n",
      "./test/Oscar.txt\n",
      "64.0\n",
      "64.0\n",
      "95.0\n",
      "./test/Julia.txt\n",
      "45.5\n",
      "45.5\n",
      "125.5\n",
      "./test/Emil.txt\n",
      "105.5\n",
      "105.5\n",
      "205.5\n",
      "./test/Gabriel.txt\n",
      "69.5\n",
      "69.5\n",
      "154.5\n",
      "./test/Joachim.txt\n",
      "57.5\n",
      "57.5\n",
      "70.0\n",
      "./test/Gabriella.txt\n",
      "52.5\n",
      "52.5\n",
      "95.5\n",
      "./test/Mariah.txt\n",
      "58.5\n",
      "58.5\n",
      "146.5\n",
      "./test/Kayle.txt\n",
      "19.0\n",
      "19.0\n",
      "124.0\n",
      "./test/Kay.txt\n",
      "119.5\n",
      "119.5\n",
      "199.5\n",
      "./test/Nancy.txt\n",
      "46.0\n",
      "46.0\n",
      "100.0\n",
      "./test/Nelson.txt\n",
      "46.0\n",
      "46.0\n",
      "92.0\n",
      "./test/Martina.txt\n",
      "50.0\n",
      "50.0\n",
      "94.0\n",
      "./test/Ben.txt\n",
      "58.0\n",
      "58.0\n",
      "97.5\n",
      "./test/Karla.txt\n",
      "53.5\n",
      "53.5\n",
      "88.0\n",
      "./test/Carlos.txt\n",
      "45.5\n",
      "45.5\n",
      "107.0\n",
      "./test/Andreas.txt\n",
      "56.0\n",
      "56.0\n",
      "100.0\n",
      "./test/Mike.txt\n",
      "37.5\n",
      "37.5\n",
      "84.0\n",
      "./test/Tim.txt\n",
      "57.5\n",
      "57.5\n",
      "70.0\n",
      "./test/Emilia.txt\n",
      "76.0\n",
      "76.0\n",
      "153.0\n",
      "./test/Tina.txt\n",
      "56.0\n",
      "56.0\n",
      "97.0\n",
      "./test/Marius.txt\n",
      "33.5\n",
      "33.5\n",
      "114.5\n",
      "./test/Max.txt\n",
      "15.0\n",
      "15.0\n",
      "116.0\n",
      "./test/Susanne.txt\n",
      "112.0\n",
      "112.0\n",
      "178.0\n",
      "./test/Marian.txt\n",
      "84.5\n",
      "84.5\n",
      "93.0\n",
      "./test/Joanna.txt\n",
      "85.5\n",
      "85.5\n",
      "113.5\n",
      "./test/Ferdinand.txt\n",
      "24.0\n",
      "24.0\n",
      "98.5\n",
      "./test/Julius.txt\n",
      "19.5\n",
      "19.5\n",
      "77.5\n",
      "Fertig!\n"
     ]
    }
   ],
   "source": [
    "while itera4 < len(falscher_Buchstabe):\n",
    "    itera4 += 1\n",
    "    liste_fehlerhafter_buchstaben.append(0)\n",
    "\n",
    "while itera2 < len(txt_Dateien) :\n",
    "    print(txt_Dateien[itera2])\n",
    "    output_strings = read_all_lines(txt_Dateien[itera2])\n",
    "    summierte_liste = 0\n",
    "    #Schleife um die List of List durchzugehen, jede Line enthält den Eintrag eines kompletten Dokumentes\n",
    "    for line in output_strings :\n",
    "        kommalines = regEx_filter(line)\n",
    "        summierte_liste += len(kommalines)\n",
    "        # Überprüfen mithilfe von Pyspellchecker\n",
    "        falsch_geschrieben = spell.unknown(kommalines)\n",
    "        for falsch in falsch_geschrieben :\n",
    "            #gebe die wahrscheinlichsten Worte raus\n",
    "            richtig = spell.correction(falsch)\n",
    "            #gebe die Buchstabenunterschiede aus(vergleiche die Strings und gebe Unterschiede aus)\n",
    "            unterschiede = difflib.ndiff(richtig, falsch)\n",
    "            for unterschied in unterschiede :\n",
    "                #gebe aus wenn es einen Buchstaben als Unterschied gibt(bei der difflib Funktion wird das ganze mit einem + bzw. - vor dem Buchstaben notiert)\n",
    "                if re.search('\\W', unterschied) != None :\n",
    "                    #entferne alle Satzzeichen und Nummern\n",
    "                    charakter1 = re.sub('\\W','',unterschied)\n",
    "                    #entferne alle Leerstellen\n",
    "                    charakter = re.sub('\\s+','',charakter1)\n",
    "                    iterator3 = 0\n",
    "                    #für jeden Buchstaben bei allen falschen Buchstaben\n",
    "                    for Element in falscher_Buchstabe:\n",
    "                        #vergleiche jeden Buchstaben mit den Fehlerhaften Buchstaben                    \n",
    "                        if Element == charakter:\n",
    "                            #wenn das zutrifft: erhöhe an der Stelle iterator3 in der Liste um 1                        \n",
    "                            liste_fehlerhafter_buchstaben[iterator3] += 1\n",
    "                        iterator3 += 1\n",
    "        print(sum(liste_fehlerhafter_buchstaben)/2)        \n",
    "        prozent = len(falsch_geschrieben)/summierte_liste\n",
    "    \n",
    "        Zeilen_Inhalt = [txt_Dateien[itera2], summierte_liste, len(falsch_geschrieben), prozent]\n",
    "    # \n",
    "    for x in liste_fehlerhafter_buchstaben :\n",
    "        Zeilen_Inhalt.append(x/2)\n",
    "    \n",
    "    csv_writer.writerow(Zeilen_Inhalt)\n",
    "    # Gebe Ergebnis in .csv Datei aus - Hänge Fehler und Dateinamen darin an, gebe Fehler summiert / gesamtwortzahl aus\n",
    "\n",
    "    # Nach dem beschreiben der .csv Datei\n",
    "    itera2 += 1\n",
    "    itera4 = 0\n",
    "    #setze die Liste fehlerhafter Buchstaben zurück für die nächste txt datei\n",
    "    while itera4 < len(falscher_Buchstabe):        \n",
    "        liste_fehlerhafter_buchstaben[itera4] = 0\n",
    "        itera4 += 1\n",
    "\n",
    "#schliesse die csv Datei\n",
    "test_text.close()\n",
    "print('Fertig!')"
   ]
  },
  {
   "cell_type": "markdown",
   "id": "771968a3",
   "metadata": {},
   "source": [
    "# Machinelearning-Algorithmen\n",
    "Im Nachfolgenden wurden der K-Means Algorithmus und der Hierarchical Agglomerative Clustering Algorithmus von Scikitlearn genutzt um unsere zuvor aufbereiteten Daten auszuwerten."
   ]
  },
  {
   "cell_type": "code",
   "execution_count": 11,
   "id": "68c76bfe",
   "metadata": {},
   "outputs": [],
   "source": [
    "#Bibliothek zum importieren von .csv dateien\n",
    "import pandas as pd\n",
    "\n",
    "#Bibliothek für Arrays\n",
    "import numpy\n",
    "\n",
    "#Bibliothek für die grafische Darstellung der Ergebnisse\n",
    "import matplotlib.pyplot as plt\n",
    "import mpl_toolkits.mplot3d.axes3d as p3\n",
    "\n",
    "#Kmeans algorithmus\n",
    "from sklearn.cluster import KMeans\n",
    "from sklearn import preprocessing as prep\n",
    "#HAC\n",
    "from sklearn.cluster import AgglomerativeClustering\n",
    "from sklearn.neighbors import kneighbors_graph\n"
   ]
  },
  {
   "cell_type": "markdown",
   "id": "56ac0817",
   "metadata": {},
   "source": [
    "Lese die .csv-Datei aus und mache sie für die Algorithmen lesbar"
   ]
  },
  {
   "cell_type": "code",
   "execution_count": 12,
   "id": "1502d075",
   "metadata": {},
   "outputs": [],
   "source": [
    "data = pd.read_csv('Filter_Ergebnisse.csv')\n",
    "\n",
    "data2 = data.loc[:, ~data.columns.isin(['Text_Autor'])]\n",
    "\n",
    "data_array = data2.to_numpy()"
   ]
  },
  {
   "cell_type": "markdown",
   "id": "7bbd6d87",
   "metadata": {},
   "source": [
    "## K-means\n",
    "zunächst initiieren wir den Skalierer mit .Standardscaler, diesen benötigen wir damit die verschiedenen Eigenschaften der .csv-Datei richtig ausgelesen werden können und nicht alles durch die maximale Wortanzahl/Fehleranzahl dominiert wird.\n",
    "\n",
    "Danach wird das K-Means Verfahren mit 3 Clustern initiiert.\n",
    "\n",
    "Zum Schluss werden die Ergebnisse des K-Means Verfahrens aka die vom Algorithmus getroffenen Zuordnungen in der Variable y_km gespeichert."
   ]
  },
  {
   "cell_type": "code",
   "execution_count": 13,
   "id": "bf7fc074",
   "metadata": {},
   "outputs": [],
   "source": [
    "data_skaliert = prep.StandardScaler().fit_transform(data_array)\n",
    "\n",
    "kmeans = KMeans(n_clusters=3, random_state=2).fit(data_skaliert)\n",
    "y_km = kmeans.predict(data_skaliert)\n"
   ]
  },
  {
   "cell_type": "markdown",
   "id": "c000d127",
   "metadata": {},
   "source": [
    "## Ergebnissicherung K-Means\n",
    "Mithilfe von Pandas Datenrahmen werden die Ergebnisse Spaltenweise zusammengefügt und in einer .csv abgespeichert"
   ]
  },
  {
   "cell_type": "code",
   "execution_count": 14,
   "id": "d212b4d5",
   "metadata": {},
   "outputs": [],
   "source": [
    "Namensschild_Datenrahmen = pd.DataFrame(kmeans.labels_)\n",
    "Fehleranteil_Datenrahmen = pd.DataFrame(data.prozentualer_Fehleranteil)\n",
    "Autor_Datenrahmen = pd.DataFrame(data.Text_Autor)\n",
    "\n",
    "Ergebnis_Datenrahmen1 = Autor_Datenrahmen.join(Fehleranteil_Datenrahmen)\n",
    "Ergebnis_Datenrahmen = Ergebnis_Datenrahmen1.join(Namensschild_Datenrahmen)\n",
    "\n",
    "Ergebnis_Datenrahmen.to_csv('Ergebnis_KMeans.csv')"
   ]
  },
  {
   "cell_type": "markdown",
   "id": "c0e7d6d0",
   "metadata": {},
   "source": [
    "## Grafische Darstellung von K-Means Ergebnissen\n",
    "\n",
    "Im Nachhinein wird mithilfe von 2-Dimensionalen Plots die getroffene Einordnung durch K-Means und die PLatzierung der Centroids dargestellt."
   ]
  },
  {
   "cell_type": "code",
   "execution_count": 15,
   "id": "6cc6daed",
   "metadata": {},
   "outputs": [
    {
     "data": {
      "image/png": "[encoded data removed]",
      "text/plain": [
       "<Figure size 432x288 with 1 Axes>"
      ]
     },
     "metadata": {
      "needs_background": "light"
     },
     "output_type": "display_data"
    }
   ],
   "source": [
    "# Zeichne die 3 verschiedenen Cluster\n",
    "plt.scatter(\n",
    "    data_skaliert[y_km == 0, 0], data_skaliert[y_km == 0, 1],\n",
    "    s=50, c='lightgreen',\n",
    "    marker='s', edgecolor='black',\n",
    "    label='cluster 1'\n",
    ")\n",
    "\n",
    "plt.scatter(\n",
    "    data_skaliert[y_km == 1, 0], data_skaliert[y_km == 1, 1],\n",
    "    s=50, c='orange',\n",
    "    marker='o', edgecolor='black',\n",
    "    label='cluster 2'\n",
    ")\n",
    "\n",
    "plt.scatter(\n",
    "    data_skaliert[y_km == 2, 0], data_skaliert[y_km == 2, 1],\n",
    "    s=50, c='lightblue',\n",
    "    marker='v', edgecolor='black',\n",
    "    label='cluster 3'\n",
    ")\n",
    "\n",
    "# plot the centroids\n",
    "plt.scatter(\n",
    "    kmeans.cluster_centers_[:, 0], kmeans.cluster_centers_[:, 1],\n",
    "    s=250, marker='*',\n",
    "    c='red', edgecolor='black',\n",
    "    label='centroids'\n",
    ")\n",
    "plt.legend(scatterpoints=1)\n",
    "plt.grid()\n",
    "plt.show()\n"
   ]
  },
  {
   "cell_type": "markdown",
   "id": "b8456d2e",
   "metadata": {},
   "source": [
    "## Hierarchical Agglomerative Clustering\n",
    "Ab hier beginnt das Hierarchical Agglomerative Clustering\n",
    "\n",
    "Zunächst muss man hierbei angeben wie die unterschiedlichen Daten zusammengefasst werden. Hierzu wird die Funktion kneighbors_graph verwendet, welcher den einzelnen Samples eine Gewichtung gibt.\n",
    "\n",
    "Danach wird das Agglomerative Clustering gestartet."
   ]
  },
  {
   "cell_type": "code",
   "execution_count": 16,
   "id": "317d2dec",
   "metadata": {},
   "outputs": [
    {
     "name": "stderr",
     "output_type": "stream",
     "text": [
      "/home/richardpi/.local/lib/python3.8/site-packages/sklearn/cluster/_agglomerative.py:280: UserWarning: the number of connected components of the connectivity matrix is 2 > 1. Completing it to avoid stopping the tree early.\n",
      "  connectivity, n_connected_components = _fix_connectivity(\n"
     ]
    }
   ],
   "source": [
    "connectivity = kneighbors_graph(data_skaliert, n_neighbors=2, include_self=False)\n",
    "\n",
    "ward = AgglomerativeClustering(\n",
    "    n_clusters=8, connectivity=connectivity, linkage=\"ward\").fit(data_skaliert)\n",
    "\n",
    "label = ward.labels_"
   ]
  },
  {
   "cell_type": "markdown",
   "id": "8d5b68fc",
   "metadata": {},
   "source": [
    "## Grafische Darstellung der Ergebnisse\n",
    "Die Ergebnisse des HAC's werden als 3-Dimensionale Grafik ausgegeben. (Diese kann innerhalb des Jupiter Notebooks nicht bewegt werden, jedoch kann sie ausserhalb bewegt werden.)"
   ]
  },
  {
   "cell_type": "code",
   "execution_count": 17,
   "id": "7cbb6eef",
   "metadata": {},
   "outputs": [
    {
     "name": "stderr",
     "output_type": "stream",
     "text": [
      "/tmp/ipykernel_14219/788103042.py:2: MatplotlibDeprecationWarning: Axes3D(fig) adding itself to the figure is deprecated since 3.4. Pass the keyword argument auto_add_to_figure=False and use fig.add_axes(ax) to suppress this warning. The default value of auto_add_to_figure will change to False in mpl3.5 and True values will no longer work in 3.6.  This is consistent with other Axes classes.\n",
      "  axis = p3.Axes3D(fig)\n"
     ]
    },
    {
     "data": {
      "image/png": "[encoded data removed]",
      "text/plain": [
       "<Figure size 432x288 with 1 Axes>"
      ]
     },
     "metadata": {
      "needs_background": "light"
     },
     "output_type": "display_data"
    }
   ],
   "source": [
    "fig = plt.figure()\n",
    "axis = p3.Axes3D(fig)\n",
    "axis.view_init(8, -90)\n",
    "for l in numpy.unique(label):\n",
    "    axis.scatter(\n",
    "        data_skaliert[label == l, 0],\n",
    "        data_skaliert[label == l, 1],\n",
    "        data_skaliert[label == l, 2],\n",
    "        color=plt.cm.jet(float(l) / numpy.max(label + 1)),\n",
    "        s=20,\n",
    "        edgecolor=\"k\",\n",
    "    )\n",
    "plt.title(\"Hierarchical Agglomerative Clustering\")\n",
    "plt.show()\n"
   ]
  },
  {
   "cell_type": "markdown",
   "id": "af2dad5f",
   "metadata": {},
   "source": [
    "## Ergebnissicherung HAC\n",
    "\n",
    "Die Daten werden nun wieder in einen Pandas Datenrahmen geschrieben und danach an die ursprüngliche .csv-Datei angehangen."
   ]
  },
  {
   "cell_type": "code",
   "execution_count": 18,
   "id": "3306ba56",
   "metadata": {},
   "outputs": [],
   "source": [
    "HAC_Datenrahmen = pd.DataFrame(label)\n",
    "HAC_Ergebnisse = data.join(HAC_Datenrahmen)\n",
    "\n",
    "HAC_Ergebnisse.to_csv('Ergebnis_HAC.csv')"
   ]
  },
  {
   "cell_type": "code",
   "execution_count": null,
   "id": "228ba054",
   "metadata": {},
   "outputs": [],
   "source": []
  }
 ],
 "metadata": {
  "kernelspec": {
   "display_name": "Python 3 (ipykernel)",
   "language": "python",
   "name": "python3"
  },
  "language_info": {
   "codemirror_mode": {
    "name": "ipython",
    "version": 3
   },
   "file_extension": ".py",
   "mimetype": "text/x-python",
   "name": "python",
   "nbconvert_exporter": "python",
   "pygments_lexer": "ipython3",
   "version": "3.8.10"
  }
 },
 "nbformat": 4,
 "nbformat_minor": 5
}
