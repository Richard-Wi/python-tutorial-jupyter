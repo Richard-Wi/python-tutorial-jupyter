{
 "cells": [
  {
   "cell_type": "markdown",
   "id": "5293bd3e",
   "metadata": {},
   "source": [
    "# Herzlich Willkommen zum Python Tutorial\n",
    "\n",
    "In diesem interaktiven Tutorial lernen Sie die Grundlagen von Python kennen\n",
    "\n",
    "Die nachfolgenden Code-Segmente können beliebig verändert werden. Wenn sie etwas ausprobieren wollen: nur zu!"
   ]
  },
  {
   "cell_type": "markdown",
   "id": "a4c1f7a7",
   "metadata": {},
   "source": [
    "## Was sind Variablen?\n",
    "\n",
    "In Variablen können wir (fast) beliebige Zeichen und auch Funktionen einspeichern. Mit diesen Variablen können wir danach Operationen durchführen.\n",
    "\n",
    "Als Beispiel:"
   ]
  },
  {
   "cell_type": "code",
   "execution_count": 1,
   "id": "91aa09c5",
   "metadata": {},
   "outputs": [
    {
     "name": "stdout",
     "output_type": "stream",
     "text": [
      "3\n"
     ]
    }
   ],
   "source": [
    "# Addiere 1 mit 2 und speichere das Ergebnis in a\n",
    "a = 1 + 2\n",
    "# Gebe a aus\n",
    "print(a)"
   ]
  },
  {
   "cell_type": "markdown",
   "id": "9f3d34db",
   "metadata": {},
   "source": [
    "Hier sind Sie gefragt:\n",
    "1. Erstellen sie eine neue Variable namens b und speichern sie eine beliebige Zahl darin\n",
    "\n",
    "2. Addieren sie a + b , und geben sie das Ergebnis aus"
   ]
  },
  {
   "cell_type": "code",
   "execution_count": 2,
   "id": "ecf16539",
   "metadata": {},
   "outputs": [],
   "source": [
    "#Hier können sie programmieren"
   ]
  },
  {
   "cell_type": "markdown",
   "id": "5199e814",
   "metadata": {},
   "source": [
    "## Was ist eine If-Bedingung?\n",
    "\n",
    "Eine If-Bedingung stellt eine Bedingung dar, welche abgefragt wird. Nur im Falle das die Bedingung zutrifft wird der nachfolgende Code ausgeführt.\n",
    "\n",
    "Als Beispiel:"
   ]
  },
  {
   "cell_type": "code",
   "execution_count": 3,
   "id": "9e1327eb",
   "metadata": {},
   "outputs": [
    {
     "name": "stdout",
     "output_type": "stream",
     "text": [
      "a = 3\n"
     ]
    }
   ],
   "source": [
    "# Wenn a gleich 3 ist mache folgendes:\n",
    "if a == 3 :\n",
    "    print('a = 3')\n",
    "    \n",
    "# Wenn a ungleich 3 ist mache folgendes:\n",
    "if a != 3 :\n",
    "    print('a ist nicht 3')"
   ]
  },
  {
   "cell_type": "markdown",
   "id": "8574a6db",
   "metadata": {},
   "source": [
    "Wie Sie in dem obigen Beispiel sehen wird das Code-Segment der Bedingung die nicht erfüllt ist übersprungen.\n",
    "\n",
    "Man kann unter anderem folgende Bedingungen abfragen:\n",
    "\n",
    "ist a größer als b?\n",
    "a >= b\n",
    "\n",
    "ist a kleiner als b?\n",
    "a <= b\n",
    "\n",
    "ist a gleich b?\n",
    "a == b\n",
    "\n",
    "ist a ungleich b?\n",
    "a != b\n",
    "\n",
    "\n",
    "Nun sind Sie gefragt:\n",
    "\n",
    "1. Erstellen Sie eine neue Abfrage, welche die überprüfte Variable ausgibt."
   ]
  },
  {
   "cell_type": "code",
   "execution_count": 4,
   "id": "ba70a821",
   "metadata": {},
   "outputs": [],
   "source": [
    "# hier können Sie programmieren"
   ]
  },
  {
   "cell_type": "markdown",
   "id": "bed609ee",
   "metadata": {},
   "source": [
    "## Was ist eine for/while - Schleife\n",
    "\n",
    "Der Titel mag hierbei etwas irreführend sein: For und While Schleifen sind zwei verschiedene Elemente die unterschiedlich ausgeführt werden.\n",
    "\n",
    "zunächst zur for schleife:\n",
    "\n",
    "Die for-Schleife läuft über ein Objekt und führt den Code darin für jegliche Sachen innerhalb des Objektes aus:"
   ]
  },
  {
   "cell_type": "code",
   "execution_count": 5,
   "id": "8cb5f8ed",
   "metadata": {},
   "outputs": [
    {
     "name": "stdout",
     "output_type": "stream",
     "text": [
      "B\n",
      "a\n",
      "n\n",
      "a\n",
      "n\n",
      "e\n"
     ]
    }
   ],
   "source": [
    "#für jeden Buchstaben in Banane mach folgendes:\n",
    "for x in \"Banane\" :\n",
    "#gebe die einzelnen Buchstaben aus\n",
    "    print(x)"
   ]
  },
  {
   "cell_type": "markdown",
   "id": "ae821eaf",
   "metadata": {},
   "source": [
    "Hier sind Sie gefragt:\n",
    "\n",
    "1. Erstellen Sie eine For-Schleife über ein beliebiges Wort."
   ]
  },
  {
   "cell_type": "code",
   "execution_count": 6,
   "id": "335500d5",
   "metadata": {},
   "outputs": [],
   "source": [
    "#Hier können Sie programmieren!"
   ]
  },
  {
   "cell_type": "markdown",
   "id": "caff6b33",
   "metadata": {},
   "source": [
    "Die While Schleife ist etwas anders aufgebaut. \n",
    "\n",
    "Mit ihr überprüft man ob eine Bedingung erfüllt ist, und sobald diese erfüllt ist hört sie auf: "
   ]
  },
  {
   "cell_type": "code",
   "execution_count": 7,
   "id": "231e5cc4",
   "metadata": {},
   "outputs": [
    {
     "name": "stdout",
     "output_type": "stream",
     "text": [
      "2\n",
      "1\n",
      "0\n"
     ]
    }
   ],
   "source": [
    "#während a ungleich null ist:\n",
    "while a != 0 :\n",
    "    #ziehe von a 1 ab.    \n",
    "    a -= 1\n",
    "    #gebe a aus\n",
    "    print(a)"
   ]
  },
  {
   "cell_type": "markdown",
   "id": "8f8ae0c0",
   "metadata": {},
   "source": [
    "Hier sind Sie gefragt:\n",
    "\n",
    "1. Erstellen Sie eine while Schleife die über ihre erstellte Variable läuft."
   ]
  },
  {
   "cell_type": "code",
   "execution_count": 8,
   "id": "2ce45753",
   "metadata": {},
   "outputs": [],
   "source": [
    "#Hier können sie programmieren"
   ]
  },
  {
   "cell_type": "markdown",
   "id": "147803d6",
   "metadata": {},
   "source": [
    "## Was ist eine Funktion?\n",
    "\n",
    "Eine Funktion ist ein Codesegment das wir alleine oder auf etwas aufrufen können.\n",
    "\n",
    "Beispiel:"
   ]
  },
  {
   "cell_type": "code",
   "execution_count": 9,
   "id": "52be2106",
   "metadata": {
    "scrolled": false
   },
   "outputs": [
    {
     "name": "stdout",
     "output_type": "stream",
     "text": [
      "Das hier ist meine Funktion\n"
     ]
    }
   ],
   "source": [
    "# definiere mein_funktion():\n",
    "# hierbei ist nur wichtig das Sie die \n",
    "# Klammern am Ende des Wortes schreiben, sonst können\n",
    "# beliebige Wörter genutzt werden\n",
    "\n",
    "def meine_funktion():\n",
    "        print('Das hier ist meine Funktion')\n",
    "\n",
    "# Hier erfolgt der FUnktionsaufruf\n",
    "meine_funktion()"
   ]
  },
  {
   "cell_type": "markdown",
   "id": "ad031d8e",
   "metadata": {},
   "source": [
    "Natürlich können wir auch vorgefertigte Funktionen nutzen. Hierzu verwenden wir einmal die Funktion input(). Diese fragt eine Tastatureingabe ab."
   ]
  },
  {
   "cell_type": "code",
   "execution_count": 10,
   "id": "e69e9cd4",
   "metadata": {},
   "outputs": [
    {
     "name": "stdout",
     "output_type": "stream",
     "text": [
      "Hallo Welt\n",
      "Hallo Welt\n"
     ]
    }
   ],
   "source": [
    "# speichere die Tastatureingabe in eingabe\n",
    "eingabe = input()\n",
    "print(eingabe)"
   ]
  },
  {
   "cell_type": "markdown",
   "id": "139fd87d",
   "metadata": {},
   "source": [
    "Weiterhin können wir auch Funktionen auf Variablen aufrufen. Zu diesem Zweck importieren wir die Funktionen aus der numpy bibliothek, welche vor allem Mathematische Funktionen enthält. "
   ]
  },
  {
   "cell_type": "markdown",
   "id": "1276f022",
   "metadata": {},
   "source": [
    "Mithilfe der Funktion \"unique()\" aus numpy können einzigartige Werte innerhalb von Tabellen gefunden werden."
   ]
  },
  {
   "cell_type": "code",
   "execution_count": 11,
   "id": "e3e5889f",
   "metadata": {},
   "outputs": [
    {
     "data": {
      "text/plain": [
       "array([1, 2, 3, 4])"
      ]
     },
     "execution_count": 11,
     "metadata": {},
     "output_type": "execute_result"
    }
   ],
   "source": [
    "import numpy\n",
    "\n",
    "numpy.unique([1,2,1,3,4,4])"
   ]
  },
  {
   "cell_type": "code",
   "execution_count": null,
   "id": "7aa4fa5a",
   "metadata": {},
   "outputs": [],
   "source": []
  }
 ],
 "metadata": {
  "kernelspec": {
   "display_name": "Python 3 (ipykernel)",
   "language": "python",
   "name": "python3"
  },
  "language_info": {
   "codemirror_mode": {
    "name": "ipython",
    "version": 3
   },
   "file_extension": ".py",
   "mimetype": "text/x-python",
   "name": "python",
   "nbconvert_exporter": "python",
   "pygments_lexer": "ipython3",
   "version": "3.8.10"
  }
 },
 "nbformat": 4,
 "nbformat_minor": 5
}
